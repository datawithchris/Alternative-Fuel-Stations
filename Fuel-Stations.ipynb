{
 "cells": [
  {
   "cell_type": "code",
   "execution_count": 4,
   "metadata": {},
   "outputs": [],
   "source": [
    "import requests\n",
    "import nrel"
   ]
  },
  {
   "cell_type": "code",
   "execution_count": 5,
   "metadata": {},
   "outputs": [],
   "source": [
    "r = requests.get(\"https://developer.nrel.gov/api/alt-fuel-stations/v1.json?fuel_type=E85,ELEC&state=CA&limit=2&api_key=\" + nrel.nrel_api['api_key'] + \"&format=JSON\")"
   ]
  },
  {
   "cell_type": "code",
   "execution_count": 6,
   "metadata": {},
   "outputs": [
    {
     "data": {
      "text/plain": [
       "b'{\"station_locator_url\":\"http://www.afdc.energy.gov/afdc/locator/stations/\",\"total_results\":6387,\"station_counts\":{\"total\":25399,\"fuels\":{\"BD\":{\"total\":0},\"E85\":{\"total\":217},\"ELEC\":{\"total\":25182,\"stations\":{\"total\":6170}},\"HY\":{\"total\":0},\"LNG\":{\"total\":0},\"CNG\":{\"total\":0},\"LPG\":{\"total\":0}}},\"fuel_stations\":[{\"access_code\":\"public\",\"access_days_time\":\"Garage business hours; pay lot\",\"access_detail_code\":null,\"cards_accepted\":null,\"date_last_confirmed\":\"2019-05-09\",\"expected_date\":null,\"fuel_type_code\":\"ELEC\",\"groups_with_access_code\":\"Public\",\"id\":1498,\"open_date\":\"2018-08-20\",\"owner_type_code\":\"LG\",\"status_code\":\"E\",\"station_name\":\"City of Sacramento - Capitol Parking Garage\",\"station_phone\":\"888-758-4389  916-264-5011\",\"updated_at\":\"2019-05-14T21:16:45Z\",\"facility_type\":\"PAY_GARAGE\",\"geocode_status\":\"GPS\",\"latitude\":38.5783802,\"longitude\":-121.4926,\"city\":\"Sacramento\",\"intersection_directions\":\"At 10th and L, 2nd Level\",\"plus4\":null,\"state\":\"CA\",\"street_address\":\"1015 L St\",\"zip\":\"95814\",\"country\":\"US\",\"bd_blends\":null,\"cng_dispenser_num\":null,\"cng_fill_type_code\":null,\"cng_psi\":null,\"cng_renewable_source\":null,\"cng_total_compression\":null,\"cng_total_storage\":null,\"cng_vehicle_class\":null,\"e85_blender_pump\":null,\"e85_other_ethanol_blends\":null,\"ev_connector_types\":[\"NEMA520\"],\"ev_dc_fast_num\":null,\"ev_level1_evse_num\":2,\"ev_level2_evse_num\":null,\"ev_network\":null,\"ev_network_web\":null,\"ev_other_evse\":\"3 SP Inductive\",\"ev_pricing\":null,\"ev_renewable_source\":null,\"hy_is_retail\":null,\"hy_pressures\":null,\"hy_standards\":null,\"hy_status_link\":null,\"lng_renewable_source\":null,\"lng_vehicle_class\":null,\"lpg_primary\":null,\"lpg_nozzle_types\":null,\"ng_fill_type_code\":null,\"ng_psi\":null,\"ng_vehicle_class\":null,\"access_days_time_fr\":null,\"intersection_directions_fr\":null,\"bd_blends_fr\":null,\"groups_with_access_code_fr\":\"Public\",\"ev_pricing_fr\":null},{\"access_code\":\"private\",\"access_days_time\":null,\"access_detail_code\":\"GOVERNMENT\",\"cards_accepted\":null,\"date_last_confirmed\":\"2018-10-04\",\"expected_date\":null,\"fuel_type_code\":\"ELEC\",\"groups_with_access_code\":\"Private - Government only\",\"id\":1517,\"open_date\":\"1999-10-15\",\"owner_type_code\":\"LG\",\"status_code\":\"E\",\"station_name\":\"LADWP - Truesdale Center\",\"station_phone\":null,\"updated_at\":\"2019-05-21T16:48:24Z\",\"facility_type\":\"UTILITY\",\"geocode_status\":\"200-8\",\"latitude\":34.249396,\"longitude\":-118.387136,\"city\":\"Sun Valley\",\"intersection_directions\":null,\"plus4\":null,\"state\":\"CA\",\"street_address\":\"11791 Truesdale St\",\"zip\":\"91352\",\"country\":\"US\",\"bd_blends\":null,\"cng_dispenser_num\":null,\"cng_fill_type_code\":null,\"cng_psi\":null,\"cng_renewable_source\":null,\"cng_total_compression\":null,\"cng_total_storage\":null,\"cng_vehicle_class\":null,\"e85_blender_pump\":null,\"e85_other_ethanol_blends\":null,\"ev_connector_types\":[\"J1772\"],\"ev_dc_fast_num\":null,\"ev_level1_evse_num\":null,\"ev_level2_evse_num\":12,\"ev_network\":null,\"ev_network_web\":null,\"ev_other_evse\":null,\"ev_pricing\":null,\"ev_renewable_source\":null,\"hy_is_retail\":null,\"hy_pressures\":null,\"hy_standards\":null,\"hy_status_link\":null,\"lng_renewable_source\":null,\"lng_vehicle_class\":null,\"lpg_primary\":null,\"lpg_nozzle_types\":null,\"ng_fill_type_code\":null,\"ng_psi\":null,\"ng_vehicle_class\":null,\"access_days_time_fr\":null,\"intersection_directions_fr\":null,\"bd_blends_fr\":null,\"groups_with_access_code_fr\":\"Priv\\xc3\\xa9 - R\\xc3\\xa9serv\\xc3\\xa9 au gouvernement\",\"ev_pricing_fr\":null}]}'"
      ]
     },
     "execution_count": 6,
     "metadata": {},
     "output_type": "execute_result"
    }
   ],
   "source": [
    "r.content"
   ]
  },
  {
   "cell_type": "code",
   "execution_count": null,
   "metadata": {},
   "outputs": [],
   "source": []
  }
 ],
 "metadata": {
  "kernelspec": {
   "display_name": "Python 3",
   "language": "python",
   "name": "python3"
  },
  "language_info": {
   "codemirror_mode": {
    "name": "ipython",
    "version": 3
   },
   "file_extension": ".py",
   "mimetype": "text/x-python",
   "name": "python",
   "nbconvert_exporter": "python",
   "pygments_lexer": "ipython3",
   "version": "3.7.3"
  }
 },
 "nbformat": 4,
 "nbformat_minor": 4
}
